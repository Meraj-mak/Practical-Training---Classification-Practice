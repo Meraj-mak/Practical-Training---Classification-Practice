{
 "cells": [
  {
   "cell_type": "code",
   "execution_count": 39,
   "id": "8092310c",
   "metadata": {},
   "outputs": [],
   "source": [
    "# Import libraries for data processing and machine learning models\n",
    "import pandas as pd\n",
    "from sklearn.model_selection import train_test_split, GridSearchCV\n",
    "from sklearn.svm import SVC\n",
    "from sklearn.neighbors import KNeighborsClassifier\n",
    "from sklearn.naive_bayes import GaussianNB\n",
    "from sklearn.tree import DecisionTreeClassifier\n",
    "from sklearn.metrics import accuracy_score, confusion_matrix\n",
    "\n",
    "# Read the edge histogram features from a CSV file into a Pandas DataFrame\n",
    "edgeHistogramDf = pd.read_csv('EdgeHistogram.csv', skiprows=1, delimiter=';', names=range(81))\n",
    "\n",
    "# Read the image classification labels from another CSV file into a Pandas DataFrame\n",
    "imagesDf = pd.read_csv('Images.csv', skiprows=1, delimiter=';', names=['ImageID', 'Class'])\n",
    "\n",
    "# Update the column name for better clarity, setting the first column as ImageID\n",
    "edgeHistogramDf.rename(columns={0: 'ImageID'}, inplace=True)\n",
    "\n",
    "# Combine the dataframes to align each images class label with its histogram data\n",
    "mergedDf = pd.merge(imagesDf, edgeHistogramDf, on='ImageID')\n",
    "\n",
    "# Extract the feature matrix (X) by removing ImageID and Class columns from the merged dataframe\n",
    "X = mergedDf.drop(columns=['ImageID', 'Class'])\n",
    "\n",
    "# Define the target variable (y), representing the class for each image.\n",
    "y = mergedDf['Class']\n",
    "\n",
    "# Split the dataset into training and testing subsets, ensuring class distribution is maintained.\n",
    "XTrain, XTest, yTrain, yTest = train_test_split(X, y, test_size=0.2, random_state=42, stratify=y)\n",
    "\n"
   ]
  },
  {
   "cell_type": "code",
   "execution_count": 40,
   "id": "77d32e52",
   "metadata": {},
   "outputs": [
    {
     "name": "stdout",
     "output_type": "stream",
     "text": [
      "Fitting 3 folds for each of 36 candidates, totalling 108 fits\n"
     ]
    },
    {
     "data": {
      "text/plain": [
       "({'algorithm': 'ball_tree', 'n_neighbors': 5, 'p': 1, 'weights': 'distance'},\n",
       " 0.4936424699221014)"
      ]
     },
     "execution_count": 40,
     "metadata": {},
     "output_type": "execute_result"
    }
   ],
   "source": [
    "#K-Nearest Neighbor\n",
    "from sklearn.neighbors import KNeighborsClassifier\n",
    "basicknnmodel = KNeighborsClassifier()\n",
    "basicknnmodel.fit(XTrain, yTrain)\n",
    "knnpredictions = basicknnmodel.predict(XTest)\n",
    "\n",
    "paramGridKnn = {\n",
    "    'n_neighbors': [3, 5, 7], \n",
    "    'weights': ['uniform', 'distance'], \n",
    "    'algorithm': ['ball_tree', 'kd_tree', 'brute'], \n",
    "    'p': [1, 2] \n",
    "}\n",
    "gridSearchKnn = GridSearchCV(estimator=KNeighborsClassifier(), param_grid=paramGridKnn, cv=3, n_jobs=-1, verbose=2)\n",
    "gridSearchKnn.fit(XTrain, yTrain)\n",
    "bestParamsKnn = gridSearchKnn.best_params_\n",
    "bestScoreKnn = gridSearchKnn.best_score_\n",
    "bestParamsKnn, bestScoreKnn"
   ]
  },
  {
   "cell_type": "code",
   "execution_count": 41,
   "id": "83881440",
   "metadata": {},
   "outputs": [
    {
     "name": "stdout",
     "output_type": "stream",
     "text": [
      "Fitting 3 folds for each of 12 candidates, totalling 36 fits\n"
     ]
    },
    {
     "data": {
      "text/plain": [
       "({'C': 10, 'gamma': 'scale', 'kernel': 'rbf'},\n",
       " 0.5654133681068831,\n",
       " 0.4297430289775834)"
      ]
     },
     "execution_count": 41,
     "metadata": {},
     "output_type": "execute_result"
    }
   ],
   "source": [
    "# Naive Bayes Classifier\n",
    "from sklearn.naive_bayes import GaussianNB\n",
    "from sklearn.svm import SVC\n",
    "from sklearn.metrics import accuracy_score\n",
    "nbModel = GaussianNB()\n",
    "nbModel.fit(XTrain, yTrain)\n",
    "nbPredictions = nbModel.predict(XTest)\n",
    "nbTestScore = accuracy_score(yTest, nbPredictions)\n",
    "paramGridSvm = {\n",
    "    'C': [0.1, 1, 10],  \n",
    "    'kernel': ['linear', 'rbf'], \n",
    "    'gamma': ['scale', 'auto']\n",
    "}\n",
    "gridSearchSvm = GridSearchCV(estimator=SVC(random_state=42), param_grid=paramGridSvm, cv=3, n_jobs=-1, verbose=2)\n",
    "gridSearchSvm.fit(XTrain, yTrain)\n",
    "bestParamsSvm = gridSearchSvm.best_params_\n",
    "bestScoreSvm = gridSearchSvm.best_score_\n",
    "bestParamsSvm, bestScoreSvm, nbTestScore"
   ]
  },
  {
   "cell_type": "code",
   "execution_count": 42,
   "id": "72b1a5bd",
   "metadata": {},
   "outputs": [
    {
     "name": "stdout",
     "output_type": "stream",
     "text": [
      "Fitting 3 folds for each of 72 candidates, totalling 216 fits\n"
     ]
    },
    {
     "data": {
      "text/plain": [
       "({'criterion': 'entropy',\n",
       "  'max_depth': 10,\n",
       "  'min_samples_leaf': 4,\n",
       "  'min_samples_split': 10},\n",
       " 0.31606214886321676)"
      ]
     },
     "execution_count": 42,
     "metadata": {},
     "output_type": "execute_result"
    }
   ],
   "source": [
    "#Decision Tree\n",
    "from sklearn.tree import DecisionTreeClassifier\n",
    "basicdtmodel = DecisionTreeClassifier(random_state=42)\n",
    "basicdtmodel.fit(XTrain, yTrain)\n",
    "dtpredictions = basicdtmodel.predict(XTest)\n",
    "paramGridDt = {\n",
    "    'criterion': ['gini', 'entropy'],\n",
    "    'max_depth': [None, 10, 20, 30],\n",
    "    'min_samples_split': [2, 5, 10],\n",
    "    'min_samples_leaf': [1, 2, 4]\n",
    "}\n",
    "gridSearchDt = GridSearchCV(estimator=DecisionTreeClassifier(random_state=42), param_grid=paramGridDt, cv=3, n_jobs=-1, verbose=2)\n",
    "gridSearchDt.fit(XTrain, yTrain)\n",
    "bestParamsDt = gridSearchDt.best_params_\n",
    "bestScoreDt = gridSearchDt.best_score_\n",
    "bestParamsDt, bestScoreDt"
   ]
  },
  {
   "cell_type": "code",
   "execution_count": 43,
   "id": "135652fb",
   "metadata": {},
   "outputs": [],
   "source": [
    "# Import required libraries for matrix operations and data handling\n",
    "from sklearn.metrics import confusion_matrix\n",
    "import numpy as np\n",
    "\n",
    "def saveConfusionMatrix(yTrue, yPred, classLabels, groupNumber, resultNumber):\n",
    "    # Sort the class labels alphabetically\n",
    "    sortedLabels = sorted(classLabels, key=str.casefold)  \n",
    "    # Create a confusion matrix with true and predicted labels\n",
    "    cm = confusion_matrix(yTrue, yPred, labels=sortedLabels)\n",
    "    # Convert the confusion matrix into a DataFrame\n",
    "    cmDf = pd.DataFrame(cm, index=sortedLabels, columns=sortedLabels)\n",
    "    # Create a filename using the group number and result number\n",
    "    cmFileName = f'group{groupNumber}_result{resultNumber}.csv'\n",
    "    # Save the confusion matrix as a CSV file\n",
    "    cmDf.to_csv(cmFileName, index=True)\n",
    "    # Return the filename\n",
    "    return cmFileName\n",
    "\n",
    "def saveHyperparameters(hyperparameters, classifierName, library, testSize, groupNumber, resultNumber):\n",
    "    # Initialize the data dictionary with the classifier name, library, and test size\n",
    "    data = {\n",
    "        'classifier_name': classifierName,\n",
    "        'library': library,\n",
    "        'test_size': testSize\n",
    "    }\n",
    "    \n",
    "    # Append each hyperparameter and its value to the data dictionary\n",
    "    for param, value in hyperparameters.items():\n",
    "        data[param] = value\n",
    "\n",
    "    # Convert the data dictionary to a DataFrame for easy CSV conversion\n",
    "    df = pd.DataFrame(list(data.items()), columns=['Parameter', 'Value'])\n",
    "    \n",
    "    # Create a filename using the group number and result number\n",
    "    parametersFileName = f'group{groupNumber}_parameters{resultNumber}.csv'\n",
    "    \n",
    "    # Save the DataFrame as a CSV file\n",
    "    df.to_csv(parametersFileName, index=False, header=False)\n",
    "    # Return the filename \n",
    "    return parametersFileName\n",
    "\n",
    "# Initialize lists to store filenames of saved confusion matrices and hyperparameters\n",
    "cmFiles, hpFiles = [], []\n",
    "\n"
   ]
  },
  {
   "cell_type": "code",
   "execution_count": null,
   "id": "e8e9b299",
   "metadata": {},
   "outputs": [],
   "source": []
  },
  {
   "cell_type": "code",
   "execution_count": null,
   "id": "5f55f438",
   "metadata": {},
   "outputs": [],
   "source": []
  },
  {
   "cell_type": "code",
   "execution_count": null,
   "id": "bd761efa",
   "metadata": {},
   "outputs": [],
   "source": []
  }
 ],
 "metadata": {
  "kernelspec": {
   "display_name": "Python 3 (ipykernel)",
   "language": "python",
   "name": "python3"
  },
  "language_info": {
   "codemirror_mode": {
    "name": "ipython",
    "version": 3
   },
   "file_extension": ".py",
   "mimetype": "text/x-python",
   "name": "python",
   "nbconvert_exporter": "python",
   "pygments_lexer": "ipython3",
   "version": "3.11.5"
  }
 },
 "nbformat": 4,
 "nbformat_minor": 5
}
